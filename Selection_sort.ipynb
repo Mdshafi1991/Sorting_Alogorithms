{
 "cells": [
  {
   "cell_type": "markdown",
   "id": "2f8f3682",
   "metadata": {},
   "source": [
    "# SELECTION SORT\n",
    "\n",
    "\n",
    "Go through the entire list of unsorted values\n",
    "Find the minimum element and exchange the first element of unsorted array with the minimum element.\n",
    "\n",
    "\n",
    "l=[43,56,76,12,34,99]\n",
    "\n",
    "first pass:\n",
    "minimum is 12 it's index is 3\n",
    "put that in the begining(0th position) and put the 0th element in place of 12 (index 3)\n",
    "now \n",
    "l=[12,56,76,43,34,99]\n",
    "\n",
    "second pass:\n",
    "l=[12, 34, 76, 43, 56, 99]\n",
    "\n",
    "third pass\n",
    "l=[12, 34, 43, 76, 56, 99]\n",
    "\n",
    "fouth pass\n",
    "l=[12, 34, 43, 56, 76, 99]\n",
    "\n",
    "fifth pass\n",
    "[12, 34, 43, 56, 76, 99]\n",
    "\n",
    "sixth pass\n",
    "[12, 34, 43, 56, 76, 99]   SORTED\n"
   ]
  },
  {
   "cell_type": "code",
   "execution_count": 6,
   "id": "d061aa09",
   "metadata": {},
   "outputs": [
    {
     "name": "stdout",
     "output_type": "stream",
     "text": [
      "1 th iteration\n",
      "[12, 56, 76, 43, 34, 99]\n",
      "2 th iteration\n",
      "[12, 34, 76, 43, 56, 99]\n",
      "3 th iteration\n",
      "[12, 34, 43, 76, 56, 99]\n",
      "4 th iteration\n",
      "[12, 34, 43, 56, 76, 99]\n",
      "5 th iteration\n",
      "[12, 34, 43, 56, 76, 99]\n",
      "6 th iteration\n",
      "[12, 34, 43, 56, 76, 99]\n"
     ]
    }
   ],
   "source": [
    "\n",
    "l=[43,56,76,12,34,99]\n",
    "\n",
    "for i in range(len(l)):\n",
    "    m=min(l[i:])\n",
    "    j=l.index(m)\n",
    "    l[j],l[i]=l[i],m\n",
    "    print (f\"{i+1} th iteration\")\n",
    "    print(l)\n",
    "    "
   ]
  },
  {
   "cell_type": "code",
   "execution_count": 3,
   "id": "8b06214e",
   "metadata": {},
   "outputs": [
    {
     "data": {
      "text/plain": [
       "[12, 34, 43, 56, 76, 99]"
      ]
     },
     "execution_count": 3,
     "metadata": {},
     "output_type": "execute_result"
    }
   ],
   "source": [
    "l"
   ]
  },
  {
   "cell_type": "code",
   "execution_count": 11,
   "id": "63cd249c",
   "metadata": {},
   "outputs": [
    {
     "ename": "NameError",
     "evalue": "name 'list1' is not defined",
     "output_type": "error",
     "traceback": [
      "\u001b[0;31m---------------------------------------------------------------------------\u001b[0m",
      "\u001b[0;31mNameError\u001b[0m                                 Traceback (most recent call last)",
      "Cell \u001b[0;32mIn[11], line 1\u001b[0m\n\u001b[0;32m----> 1\u001b[0m \u001b[38;5;28mmin\u001b[39m(list1)\n",
      "\u001b[0;31mNameError\u001b[0m: name 'list1' is not defined"
     ]
    }
   ],
   "source": [
    "min(list1)"
   ]
  },
  {
   "cell_type": "code",
   "execution_count": 13,
   "id": "f8f066b9",
   "metadata": {},
   "outputs": [
    {
     "ename": "TypeError",
     "evalue": "'int' object is not callable",
     "output_type": "error",
     "traceback": [
      "\u001b[0;31m---------------------------------------------------------------------------\u001b[0m",
      "\u001b[0;31mTypeError\u001b[0m                                 Traceback (most recent call last)",
      "Cell \u001b[0;32mIn[13], line 1\u001b[0m\n\u001b[0;32m----> 1\u001b[0m \u001b[38;5;28mmin\u001b[39m([\u001b[38;5;241m1\u001b[39m,\u001b[38;5;241m3\u001b[39m,\u001b[38;5;241m6\u001b[39m])\n",
      "\u001b[0;31mTypeError\u001b[0m: 'int' object is not callable"
     ]
    }
   ],
   "source": [
    "min([1,3,6])"
   ]
  },
  {
   "cell_type": "code",
   "execution_count": null,
   "id": "c1e33ce9",
   "metadata": {},
   "outputs": [],
   "source": []
  }
 ],
 "metadata": {
  "kernelspec": {
   "display_name": "Python 3 (ipykernel)",
   "language": "python",
   "name": "python3"
  },
  "language_info": {
   "codemirror_mode": {
    "name": "ipython",
    "version": 3
   },
   "file_extension": ".py",
   "mimetype": "text/x-python",
   "name": "python",
   "nbconvert_exporter": "python",
   "pygments_lexer": "ipython3",
   "version": "3.11.5"
  }
 },
 "nbformat": 4,
 "nbformat_minor": 5
}
